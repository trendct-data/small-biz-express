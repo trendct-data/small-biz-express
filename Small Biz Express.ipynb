{
 "cells": [
  {
   "cell_type": "code",
   "execution_count": 2,
   "metadata": {
    "collapsed": true
   },
   "outputs": [],
   "source": [
    "import pandas as pd, re, datetime as dt, numpy as np"
   ]
  },
  {
   "cell_type": "code",
   "execution_count": 3,
   "metadata": {
    "collapsed": true
   },
   "outputs": [],
   "source": [
    "## Handy stuff to break out into a module at some point\n",
    "\n",
    "# Replace non-alpha with _ and lowercase column names\n",
    "def clean_cols (df):\n",
    "    df.columns = map (lambda x: re.sub(r'[^a-z]+', '_', x.lower().strip()), df.columns)\n",
    "    \n",
    "# Convert a date field\n",
    "def conv_date(df, col):\n",
    "    df[col] = pd.to_datetime(df[col])\n",
    "    \n",
    "def days_from_timedelta (td):\n",
    "    return td.astype('timedelta64[D]') / np.timedelta64(1, 'D')\n"
   ]
  },
  {
   "cell_type": "code",
   "execution_count": 41,
   "metadata": {
    "collapsed": false
   },
   "outputs": [
    {
     "data": {
      "text/plain": [
       "fiscal_year                                                  int64\n",
       "company                                                     object\n",
       "address                                                     object\n",
       "municipality                                                object\n",
       "state                                                       object\n",
       "zip_code                                                     int64\n",
       "industry                                                    object\n",
       "naics_code                                                  object\n",
       "minority_or_women_owned                                     object\n",
       "contract_execution_date                             datetime64[ns]\n",
       "grant_amount                                                object\n",
       "loan_amount                                                 object\n",
       "total_assistance                                            object\n",
       "total_project_cost                                          object\n",
       "amount_leveraged                                            object\n",
       "funding_source                                              object\n",
       "statutory_reference                                         object\n",
       "contract_requirement_jobs_to_be_retained                   float64\n",
       "contract_requirement_jobs_to_be_created                    float64\n",
       "contract_requirement_target_date                    datetime64[ns]\n",
       "actual_jobs_at_time_of_review                              float64\n",
       "job_obligation_status                                       object\n",
       "job_penalty_if_applicable_                                  object\n",
       "forgiveness_credit_if_applicable_                           object\n",
       "per_application_full_time_ct_jobs_at_application           float64\n",
       "per_application_full_time_jobs_to_be_created               float64\n",
       "per_application_part_time_ct_jobs_at_application           float64\n",
       "per_application_part_time_jobs_to_be_created               float64\n",
       "status                                                      object\n",
       "count                                                      float64\n",
       "location_                                                   object\n",
       "dtype: object"
      ]
     },
     "execution_count": 41,
     "metadata": {},
     "output_type": "execute_result"
    }
   ],
   "source": [
    "smallbiz = pd.read_csv(\"data/Small_Business_Express_Tabulated_Data (1).csv\")\n",
    "clean_cols(smallbiz)\n",
    "conv_date(smallbiz, \"contract_requirement_target_date\")\n",
    "conv_date(smallbiz, \"contract_execution_date\")\n",
    "smallbiz.dtypes\n",
    "\n"
   ]
  },
  {
   "cell_type": "code",
   "execution_count": 42,
   "metadata": {
    "collapsed": false
   },
   "outputs": [],
   "source": [
    "smallbiz[\"grant_amount\"] = smallbiz[\"grant_amount\"].str.replace(\"$\",\"\")\n",
    "smallbiz[\"loan_amount\"] = smallbiz[\"loan_amount\"].str.replace(\"$\",\"\")\n",
    "smallbiz[\"total_assistance\"] = smallbiz[\"total_assistance\"].str.replace(\"$\",\"\")"
   ]
  },
  {
   "cell_type": "code",
   "execution_count": 43,
   "metadata": {
    "collapsed": false
   },
   "outputs": [
    {
     "data": {
      "text/plain": [
       "186642220.0"
      ]
     },
     "execution_count": 43,
     "metadata": {},
     "output_type": "execute_result"
    }
   ],
   "source": [
    "pd.to_numeric(smallbiz[\"total_assistance\"]).sum()"
   ]
  },
  {
   "cell_type": "code",
   "execution_count": 44,
   "metadata": {
    "collapsed": false
   },
   "outputs": [
    {
     "data": {
      "text/plain": [
       "186437222.0"
      ]
     },
     "execution_count": 44,
     "metadata": {},
     "output_type": "execute_result"
    }
   ],
   "source": [
    "pd.to_numeric(smallbiz[\"grant_amount\"]).sum() + pd.to_numeric(smallbiz[\"loan_amount\"]).sum() "
   ]
  },
  {
   "cell_type": "markdown",
   "metadata": {},
   "source": [
    "### How many companies remain active?"
   ]
  },
  {
   "cell_type": "code",
   "execution_count": 45,
   "metadata": {
    "collapsed": false
   },
   "outputs": [
    {
     "data": {
      "text/plain": [
       "Active             1203\n",
       "Out of Business      32\n",
       "Default               1\n",
       "Name: status, dtype: int64"
      ]
     },
     "execution_count": 45,
     "metadata": {},
     "output_type": "execute_result"
    }
   ],
   "source": [
    "smallbiz[\"status\"].value_counts()"
   ]
  },
  {
   "cell_type": "markdown",
   "metadata": {},
   "source": [
    "### How many companies with past target dates have been reviewed?"
   ]
  },
  {
   "cell_type": "code",
   "execution_count": 46,
   "metadata": {
    "collapsed": true
   },
   "outputs": [],
   "source": [
    "# Use March 1 as cut-off date\n",
    "\n",
    "today = dt.datetime(2016,3,1)"
   ]
  },
  {
   "cell_type": "code",
   "execution_count": 47,
   "metadata": {
    "collapsed": false
   },
   "outputs": [
    {
     "data": {
      "text/plain": [
       "Pending          647\n",
       "Met              115\n",
       "Not Met           62\n",
       "Waived             1\n",
       "Partially Met      1\n",
       "Name: job_obligation_status, dtype: int64"
      ]
     },
     "execution_count": 47,
     "metadata": {},
     "output_type": "execute_result"
    }
   ],
   "source": [
    "passed = smallbiz[smallbiz[\"contract_requirement_target_date\"] < today]\n",
    "passed[\"job_obligation_status\"].value_counts()"
   ]
  },
  {
   "cell_type": "code",
   "execution_count": 50,
   "metadata": {
    "collapsed": false
   },
   "outputs": [
    {
     "name": "stderr",
     "output_type": "stream",
     "text": [
      "/usr/local/lib/python2.7/site-packages/ipykernel/__main__.py:1: SettingWithCopyWarning: \n",
      "A value is trying to be set on a copy of a slice from a DataFrame.\n",
      "Try using .loc[row_indexer,col_indexer] = value instead\n",
      "\n",
      "See the caveats in the documentation: http://pandas.pydata.org/pandas-docs/stable/indexing.html#indexing-view-versus-copy\n",
      "  if __name__ == '__main__':\n"
     ]
    }
   ],
   "source": [
    "passed[\"days_passed\"] = map (lambda x : (today - x).days, passed[\"contract_requirement_target_date\"])"
   ]
  },
  {
   "cell_type": "code",
   "execution_count": null,
   "metadata": {
    "collapsed": true
   },
   "outputs": [],
   "source": []
  },
  {
   "cell_type": "code",
   "execution_count": 51,
   "metadata": {
    "collapsed": false
   },
   "outputs": [
    {
     "data": {
      "text/plain": [
       "count     826.000000\n",
       "mean      411.044794\n",
       "std       215.302655\n",
       "min         2.000000\n",
       "25%       258.000000\n",
       "50%       420.000000\n",
       "75%       578.000000\n",
       "max      1344.000000\n",
       "Name: days_passed, dtype: float64"
      ]
     },
     "execution_count": 51,
     "metadata": {},
     "output_type": "execute_result"
    }
   ],
   "source": [
    "passed[\"days_passed\"].describe()"
   ]
  },
  {
   "cell_type": "code",
   "execution_count": 52,
   "metadata": {
    "collapsed": false
   },
   "outputs": [
    {
     "data": {
      "text/plain": [
       "626"
      ]
     },
     "execution_count": 52,
     "metadata": {},
     "output_type": "execute_result"
    }
   ],
   "source": [
    "unreviewed = passed[passed[\"job_obligation_status\"] == \"Pending\"]\n",
    "\n",
    "def older_than(n):\n",
    "    return unreviewed[unreviewed[\"days_passed\"] > n][\"days_passed\"].count()\n",
    "older_than (30)"
   ]
  },
  {
   "cell_type": "code",
   "execution_count": 56,
   "metadata": {
    "collapsed": false
   },
   "outputs": [
    {
     "data": {
      "text/plain": [
       "count     647.000000\n",
       "mean      385.989181\n",
       "std       211.005447\n",
       "min         2.000000\n",
       "25%       219.000000\n",
       "50%       374.000000\n",
       "75%       552.000000\n",
       "max      1069.000000\n",
       "Name: days_passed, dtype: float64"
      ]
     },
     "execution_count": 56,
     "metadata": {},
     "output_type": "execute_result"
    }
   ],
   "source": [
    "unreviewed[\"days_passed\"].describe()"
   ]
  },
  {
   "cell_type": "code",
   "execution_count": 53,
   "metadata": {
    "collapsed": false
   },
   "outputs": [
    {
     "data": {
      "text/html": [
       "<div>\n",
       "<table border=\"1\" class=\"dataframe\">\n",
       "  <thead>\n",
       "    <tr style=\"text-align: right;\">\n",
       "      <th></th>\n",
       "      <th>days past target</th>\n",
       "      <th>project count</th>\n",
       "    </tr>\n",
       "  </thead>\n",
       "  <tbody>\n",
       "    <tr>\n",
       "      <th>0</th>\n",
       "      <td>810</td>\n",
       "      <td>15</td>\n",
       "    </tr>\n",
       "    <tr>\n",
       "      <th>1</th>\n",
       "      <td>720</td>\n",
       "      <td>11</td>\n",
       "    </tr>\n",
       "    <tr>\n",
       "      <th>2</th>\n",
       "      <td>630</td>\n",
       "      <td>56</td>\n",
       "    </tr>\n",
       "    <tr>\n",
       "      <th>3</th>\n",
       "      <td>540</td>\n",
       "      <td>93</td>\n",
       "    </tr>\n",
       "    <tr>\n",
       "      <th>4</th>\n",
       "      <td>450</td>\n",
       "      <td>79</td>\n",
       "    </tr>\n",
       "    <tr>\n",
       "      <th>5</th>\n",
       "      <td>360</td>\n",
       "      <td>76</td>\n",
       "    </tr>\n",
       "    <tr>\n",
       "      <th>6</th>\n",
       "      <td>270</td>\n",
       "      <td>115</td>\n",
       "    </tr>\n",
       "    <tr>\n",
       "      <th>7</th>\n",
       "      <td>180</td>\n",
       "      <td>75</td>\n",
       "    </tr>\n",
       "    <tr>\n",
       "      <th>8</th>\n",
       "      <td>90</td>\n",
       "      <td>71</td>\n",
       "    </tr>\n",
       "    <tr>\n",
       "      <th>9</th>\n",
       "      <td>0</td>\n",
       "      <td>56</td>\n",
       "    </tr>\n",
       "  </tbody>\n",
       "</table>\n",
       "</div>"
      ],
      "text/plain": [
       "   days past target  project count\n",
       "0               810             15\n",
       "1               720             11\n",
       "2               630             56\n",
       "3               540             93\n",
       "4               450             79\n",
       "5               360             76\n",
       "6               270            115\n",
       "7               180             75\n",
       "8                90             71\n",
       "9                 0             56"
      ]
     },
     "execution_count": 53,
     "metadata": {},
     "output_type": "execute_result"
    }
   ],
   "source": [
    "days_col = []\n",
    "counts_col = []\n",
    "steps = 10\n",
    "stepsize = 90\n",
    "minus = 0 \n",
    "for i in range (steps):\n",
    "    days = (steps - 1 - i) * stepsize\n",
    "    days_col.append (days)\n",
    "    count = older_than (days) - minus\n",
    "    minus = minus + count\n",
    "    #print str(days) + \"\\t\" + str(count)\n",
    "    #print minus\n",
    "\n",
    "    counts_col.append (count)\n",
    "\n",
    "older = pd.Series(counts_col, index=days_col).to_frame().reset_index()\n",
    "older.columns = [\"days past target\", \"project count\"]\n",
    "older"
   ]
  },
  {
   "cell_type": "code",
   "execution_count": 54,
   "metadata": {
    "collapsed": false
   },
   "outputs": [
    {
     "data": {
      "text/plain": [
       "647"
      ]
     },
     "execution_count": 54,
     "metadata": {},
     "output_type": "execute_result"
    }
   ],
   "source": [
    "older[\"project count\"].sum()"
   ]
  },
  {
   "cell_type": "code",
   "execution_count": 55,
   "metadata": {
    "collapsed": false
   },
   "outputs": [
    {
     "data": {
      "text/plain": [
       "520"
      ]
     },
     "execution_count": 55,
     "metadata": {},
     "output_type": "execute_result"
    }
   ],
   "source": [
    "older_than (180)"
   ]
  },
  {
   "cell_type": "code",
   "execution_count": 57,
   "metadata": {
    "collapsed": false
   },
   "outputs": [
    {
     "data": {
      "text/plain": [
       "25"
      ]
     },
     "execution_count": 57,
     "metadata": {},
     "output_type": "execute_result"
    }
   ],
   "source": [
    "older_than (730)"
   ]
  },
  {
   "cell_type": "markdown",
   "metadata": {},
   "source": [
    "### How many met or failed to meet job creation and retention goals?\n"
   ]
  },
  {
   "cell_type": "code",
   "execution_count": 138,
   "metadata": {
    "collapsed": false
   },
   "outputs": [
    {
     "data": {
      "text/plain": [
       "Pending          647\n",
       "Met              115\n",
       "Not Met           62\n",
       "Waived             1\n",
       "Partially Met      1\n",
       "Name: job_obligation_status, dtype: int64"
      ]
     },
     "execution_count": 138,
     "metadata": {},
     "output_type": "execute_result"
    }
   ],
   "source": [
    "passed[\"job_obligation_status\"].value_counts()"
   ]
  },
  {
   "cell_type": "code",
   "execution_count": 139,
   "metadata": {
    "collapsed": false
   },
   "outputs": [
    {
     "data": {
      "text/plain": [
       "826"
      ]
     },
     "execution_count": 139,
     "metadata": {},
     "output_type": "execute_result"
    }
   ],
   "source": [
    "passed[\"job_obligation_status\"].value_counts().sum()"
   ]
  },
  {
   "cell_type": "code",
   "execution_count": 145,
   "metadata": {
    "collapsed": false
   },
   "outputs": [
    {
     "name": "stdout",
     "output_type": "stream",
     "text": [
      "success: 64.0%\n",
      "failure: 35.0%\n"
     ]
    }
   ],
   "source": [
    "met_count = 115\n",
    "not_met_count = 62\n",
    "success_rate = met_count * 100 / (not_met_count + met_count)\n",
    "fail_rate = not_met_count * 100 / (not_met_count + met_count)\n",
    "print \"success: \" + str(round(success_rate)) + \"%\"\n",
    "print \"failure: \" + str(round(fail_rate)) + \"%\""
   ]
  },
  {
   "cell_type": "code",
   "execution_count": 142,
   "metadata": {
    "collapsed": false
   },
   "outputs": [
    {
     "data": {
      "text/plain": [
       "Met        27\n",
       "Not Met    16\n",
       "Pending     6\n",
       "Name: Met/Not Met/Pending, dtype: int64"
      ]
     },
     "execution_count": 142,
     "metadata": {},
     "output_type": "execute_result"
    }
   ],
   "source": [
    "## We have some supplemental data on partner-audited projects\n",
    "partners = pd.read_excel(\"data/Partners Job Audit.xlsx\", skiprows=1)\n",
    "partners[\"Met/Not Met/Pending\"].value_counts()"
   ]
  },
  {
   "cell_type": "code",
   "execution_count": 143,
   "metadata": {
    "collapsed": false
   },
   "outputs": [
    {
     "name": "stdout",
     "output_type": "stream",
     "text": [
      "success: 64.0%\n",
      "failure: 35.0%\n"
     ]
    }
   ],
   "source": [
    "## So it appears there are 115+27 met versus 62+16 not met when combining the two data sets\n",
    "met_count = 115 + 27 \n",
    "not_met_count = 62+16\n",
    "success_rate = met_count * 100 / (not_met_count + met_count)\n",
    "fail_rate = not_met_count * 100 / (not_met_count + met_count)\n",
    "print \"success: \" + str(round(success_rate)) + \"%\"\n",
    "print \"failure: \" + str(round(fail_rate)) + \"%\""
   ]
  },
  {
   "cell_type": "markdown",
   "metadata": {},
   "source": [
    "### How many jobs were created and how does that compare with the total goal?\n"
   ]
  },
  {
   "cell_type": "code",
   "execution_count": 134,
   "metadata": {
    "collapsed": false
   },
   "outputs": [],
   "source": [
    "def jobs_at_start (df):\n",
    "    return df[\"per_application_full_time_ct_jobs_at_application\"].sum() +\\\n",
    "df[\"per_application_part_time_ct_jobs_at_application\"].sum()\n",
    "\n",
    "def jobs_goal (df):\n",
    "    return df[\"contract_requirement_jobs_to_be_retained\"].sum() + df[\"contract_requirement_jobs_to_be_created\"].sum()\n",
    "\n",
    "def jobs_at_end (df):\n",
    "    return df[\"actual_jobs_at_time_of_review\"].sum()\n",
    "\n",
    "def jobs_gain (df):\n",
    "    return jobs_at_end (df) - jobs_at_start(df)"
   ]
  },
  {
   "cell_type": "code",
   "execution_count": 128,
   "metadata": {
    "collapsed": false
   },
   "outputs": [
    {
     "data": {
      "text/plain": [
       "19184.0"
      ]
     },
     "execution_count": 128,
     "metadata": {},
     "output_type": "execute_result"
    }
   ],
   "source": [
    "jobs_goal(smallbiz)"
   ]
  },
  {
   "cell_type": "code",
   "execution_count": 129,
   "metadata": {
    "collapsed": false
   },
   "outputs": [
    {
     "data": {
      "text/plain": [
       "11966.0"
      ]
     },
     "execution_count": 129,
     "metadata": {},
     "output_type": "execute_result"
    }
   ],
   "source": [
    "jobs_goal(passed)"
   ]
  },
  {
   "cell_type": "code",
   "execution_count": 130,
   "metadata": {
    "collapsed": false
   },
   "outputs": [
    {
     "data": {
      "text/plain": [
       "2774.0"
      ]
     },
     "execution_count": 130,
     "metadata": {},
     "output_type": "execute_result"
    }
   ],
   "source": [
    "jobs_at_end(passed)"
   ]
  },
  {
   "cell_type": "code",
   "execution_count": 131,
   "metadata": {
    "collapsed": false
   },
   "outputs": [
    {
     "data": {
      "text/plain": [
       "2774.0"
      ]
     },
     "execution_count": 131,
     "metadata": {},
     "output_type": "execute_result"
    }
   ],
   "source": [
    "reviewed = passed[passed[\"job_obligation_status\"] != \"Pending\"]\n",
    "jobs_at_end(reviewed)"
   ]
  },
  {
   "cell_type": "code",
   "execution_count": 132,
   "metadata": {
    "collapsed": false
   },
   "outputs": [
    {
     "data": {
      "text/plain": [
       "2744.0"
      ]
     },
     "execution_count": 132,
     "metadata": {},
     "output_type": "execute_result"
    }
   ],
   "source": [
    "jobs_goal(reviewed)"
   ]
  },
  {
   "cell_type": "code",
   "execution_count": 133,
   "metadata": {
    "collapsed": false
   },
   "outputs": [
    {
     "data": {
      "text/plain": [
       "2212.0"
      ]
     },
     "execution_count": 133,
     "metadata": {},
     "output_type": "execute_result"
    }
   ],
   "source": [
    "jobs_at_start(reviewed)"
   ]
  },
  {
   "cell_type": "code",
   "execution_count": 135,
   "metadata": {
    "collapsed": false
   },
   "outputs": [
    {
     "data": {
      "text/plain": [
       "562.0"
      ]
     },
     "execution_count": 135,
     "metadata": {},
     "output_type": "execute_result"
    }
   ],
   "source": [
    "jobs_gain(reviewed)"
   ]
  },
  {
   "cell_type": "markdown",
   "metadata": {},
   "source": [
    "## Conclusions\n"
   ]
  },
  {
   "cell_type": "markdown",
   "metadata": {},
   "source": [
    "As of March 1 there were 826 projects with target dates that had passed.\n",
    "\n",
    "Out of those, 647 had no recorded audit result.\n",
    "\n",
    "Out of those that had been audited, 115 met their goals and 62 failed to meet their goals. Adding in projects audited by partners, the total is (115+27) and (62+16). In either case, the failure/success rate is 64%/35%.\n",
    "\n",
    "The total obligations for jobs created and retained is 19,184, not including partner projects.\n",
    "\n",
    "Focusing only on the jobs that have been reviewed, the total job goal was 2,744 and the total jobs at time of reviews was 2,774. So even with a 35% rate of businesses failing to meet job goals, more jobs were created or retained overall than required. Of those reviewed projects, there was a net gain of 562 part time and full time jobs.\n"
   ]
  },
  {
   "cell_type": "code",
   "execution_count": null,
   "metadata": {
    "collapsed": true
   },
   "outputs": [],
   "source": []
  }
 ],
 "metadata": {
  "kernelspec": {
   "display_name": "Python 2",
   "language": "python",
   "name": "python2"
  },
  "language_info": {
   "codemirror_mode": {
    "name": "ipython",
    "version": 2
   },
   "file_extension": ".py",
   "mimetype": "text/x-python",
   "name": "python",
   "nbconvert_exporter": "python",
   "pygments_lexer": "ipython2",
   "version": "2.7.11"
  }
 },
 "nbformat": 4,
 "nbformat_minor": 0
}
